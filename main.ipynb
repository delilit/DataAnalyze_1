{
 "cells": [
  {
   "cell_type": "code",
   "execution_count": 47,
   "metadata": {},
   "outputs": [],
   "source": [
    "import numpy as np\n",
    "import pandas as pd\n",
    "from copy import copy\n",
    "from sklearn.preprocessing import LabelEncoder\n",
    "import os\n",
    "for dirname, _, filenames in os.walk('kaggle/input'):\n",
    "    for filename in filenames:\n",
    "        print(os.path.join(dirname, filename))\n",
    "\n",
    "import warnings\n",
    "warnings.filterwarnings('ignore')"
   ]
  },
  {
   "cell_type": "code",
   "execution_count": 48,
   "metadata": {},
   "outputs": [
    {
     "name": "stdout",
     "output_type": "stream",
     "text": [
      "\n",
      "Типы данных в столбцах: \n",
      "ID                   object\n",
      "Age_Y                object\n",
      "Gender               object\n",
      "Weight_Kg            object\n",
      "Height_cm            object\n",
      "BMI                  object\n",
      "Speed_m/s            object\n",
      "Jump _distance_cm    object\n",
      "Region               object\n",
      "dtype: object\n",
      "\n",
      "Типы данных в столбцах: \n",
      "ID                    object\n",
      "Age_Y                float64\n",
      "Gender                object\n",
      "Weight_Kg            float64\n",
      "Height_cm            float64\n",
      "BMI                  float64\n",
      "Speed_m/s            float64\n",
      "Jump _distance_cm    float64\n",
      "Region                object\n",
      "dtype: object\n"
     ]
    }
   ],
   "source": [
    "data = pd.read_csv('DATA_STUDENTS.csv', header=None)\n",
    "\n",
    "new_header = data.iloc[458]\n",
    "\n",
    "data = data.rename(columns=new_header)\n",
    "\n",
    "data = data.drop(459).reset_index(drop=True)\n",
    "\n",
    "print(f\"\\nТипы данных в столбцах: \\n{data.dtypes}\")\n",
    "\n",
    "#Данные, исходя из вывода имеют тип object. Меняем его на нормальный.\n",
    "numeric_cols = ['Age_Y', 'Weight_Kg', 'Height_cm', 'BMI', 'Speed_m/s', 'Jump _distance_cm']\n",
    "data[numeric_cols] = data[numeric_cols].apply(pd.to_numeric, errors='coerce')\n",
    "\n",
    "print(f\"\\nТипы данных в столбцах: \\n{data.dtypes}\")\n"
   ]
  },
  {
   "cell_type": "code",
   "execution_count": 49,
   "metadata": {},
   "outputs": [
    {
     "data": {
      "text/html": [
       "<div>\n",
       "<style scoped>\n",
       "    .dataframe tbody tr th:only-of-type {\n",
       "        vertical-align: middle;\n",
       "    }\n",
       "\n",
       "    .dataframe tbody tr th {\n",
       "        vertical-align: top;\n",
       "    }\n",
       "\n",
       "    .dataframe thead th {\n",
       "        text-align: right;\n",
       "    }\n",
       "</style>\n",
       "<table border=\"1\" class=\"dataframe\">\n",
       "  <thead>\n",
       "    <tr style=\"text-align: right;\">\n",
       "      <th></th>\n",
       "      <th>ID</th>\n",
       "      <th>Age_Y</th>\n",
       "      <th>Gender</th>\n",
       "      <th>Weight_Kg</th>\n",
       "      <th>Height_cm</th>\n",
       "      <th>BMI</th>\n",
       "      <th>Speed_m/s</th>\n",
       "      <th>Jump _distance_cm</th>\n",
       "      <th>Region</th>\n",
       "    </tr>\n",
       "  </thead>\n",
       "  <tbody>\n",
       "    <tr>\n",
       "      <th>0</th>\n",
       "      <td>371</td>\n",
       "      <td>12.0</td>\n",
       "      <td>male</td>\n",
       "      <td>30.0</td>\n",
       "      <td>138.0</td>\n",
       "      <td>16.0</td>\n",
       "      <td>6.17</td>\n",
       "      <td>321.0</td>\n",
       "      <td>Bogota</td>\n",
       "    </tr>\n",
       "    <tr>\n",
       "      <th>1</th>\n",
       "      <td>636</td>\n",
       "      <td>13.0</td>\n",
       "      <td>male</td>\n",
       "      <td>31.0</td>\n",
       "      <td>141.0</td>\n",
       "      <td>16.0</td>\n",
       "      <td>4.81</td>\n",
       "      <td>280.0</td>\n",
       "      <td>Bogota</td>\n",
       "    </tr>\n",
       "    <tr>\n",
       "      <th>2</th>\n",
       "      <td>666</td>\n",
       "      <td>13.0</td>\n",
       "      <td>male</td>\n",
       "      <td>31.0</td>\n",
       "      <td>142.0</td>\n",
       "      <td>15.0</td>\n",
       "      <td>5.43</td>\n",
       "      <td>310.0</td>\n",
       "      <td>Bogota</td>\n",
       "    </tr>\n",
       "    <tr>\n",
       "      <th>3</th>\n",
       "      <td>1548</td>\n",
       "      <td>13.0</td>\n",
       "      <td>male</td>\n",
       "      <td>31.0</td>\n",
       "      <td>142.0</td>\n",
       "      <td>15.0</td>\n",
       "      <td>4.70</td>\n",
       "      <td>320.0</td>\n",
       "      <td>Bogota</td>\n",
       "    </tr>\n",
       "    <tr>\n",
       "      <th>4</th>\n",
       "      <td>358</td>\n",
       "      <td>13.0</td>\n",
       "      <td>male</td>\n",
       "      <td>31.0</td>\n",
       "      <td>145.0</td>\n",
       "      <td>15.0</td>\n",
       "      <td>5.62</td>\n",
       "      <td>245.0</td>\n",
       "      <td>Bogota</td>\n",
       "    </tr>\n",
       "    <tr>\n",
       "      <th>...</th>\n",
       "      <td>...</td>\n",
       "      <td>...</td>\n",
       "      <td>...</td>\n",
       "      <td>...</td>\n",
       "      <td>...</td>\n",
       "      <td>...</td>\n",
       "      <td>...</td>\n",
       "      <td>...</td>\n",
       "      <td>...</td>\n",
       "    </tr>\n",
       "    <tr>\n",
       "      <th>1852</th>\n",
       "      <td>106</td>\n",
       "      <td>12.0</td>\n",
       "      <td>male</td>\n",
       "      <td>42.5</td>\n",
       "      <td>160.0</td>\n",
       "      <td>17.0</td>\n",
       "      <td>5.41</td>\n",
       "      <td>360.0</td>\n",
       "      <td>Bogota</td>\n",
       "    </tr>\n",
       "    <tr>\n",
       "      <th>1853</th>\n",
       "      <td>1693</td>\n",
       "      <td>11.0</td>\n",
       "      <td>male</td>\n",
       "      <td>42.5</td>\n",
       "      <td>160.0</td>\n",
       "      <td>17.0</td>\n",
       "      <td>5.40</td>\n",
       "      <td>360.0</td>\n",
       "      <td>Cairo</td>\n",
       "    </tr>\n",
       "    <tr>\n",
       "      <th>1854</th>\n",
       "      <td>1611</td>\n",
       "      <td>15.0</td>\n",
       "      <td>female</td>\n",
       "      <td>50.3</td>\n",
       "      <td>162.0</td>\n",
       "      <td>19.0</td>\n",
       "      <td>5.40</td>\n",
       "      <td>243.0</td>\n",
       "      <td>Riga</td>\n",
       "    </tr>\n",
       "    <tr>\n",
       "      <th>1855</th>\n",
       "      <td>310</td>\n",
       "      <td>14.0</td>\n",
       "      <td>female</td>\n",
       "      <td>58.5</td>\n",
       "      <td>155.0</td>\n",
       "      <td>24.0</td>\n",
       "      <td>5.33</td>\n",
       "      <td>270.0</td>\n",
       "      <td>Riga</td>\n",
       "    </tr>\n",
       "    <tr>\n",
       "      <th>1856</th>\n",
       "      <td>336</td>\n",
       "      <td>15.0</td>\n",
       "      <td>female</td>\n",
       "      <td>59.5</td>\n",
       "      <td>158.0</td>\n",
       "      <td>24.0</td>\n",
       "      <td>4.27</td>\n",
       "      <td>162.0</td>\n",
       "      <td>Riga</td>\n",
       "    </tr>\n",
       "  </tbody>\n",
       "</table>\n",
       "<p>1857 rows × 9 columns</p>\n",
       "</div>"
      ],
      "text/plain": [
       "        ID  Age_Y  Gender  Weight_Kg  Height_cm   BMI  Speed_m/s  \\\n",
       "0      371   12.0    male       30.0      138.0  16.0       6.17   \n",
       "1      636   13.0    male       31.0      141.0  16.0       4.81   \n",
       "2      666   13.0    male       31.0      142.0  15.0       5.43   \n",
       "3     1548   13.0    male       31.0      142.0  15.0       4.70   \n",
       "4      358   13.0    male       31.0      145.0  15.0       5.62   \n",
       "...    ...    ...     ...        ...        ...   ...        ...   \n",
       "1852   106   12.0    male       42.5      160.0  17.0       5.41   \n",
       "1853  1693   11.0    male       42.5      160.0  17.0       5.40   \n",
       "1854  1611   15.0  female       50.3      162.0  19.0       5.40   \n",
       "1855   310   14.0  female       58.5      155.0  24.0       5.33   \n",
       "1856   336   15.0  female       59.5      158.0  24.0       4.27   \n",
       "\n",
       "      Jump _distance_cm  Region  \n",
       "0                 321.0  Bogota  \n",
       "1                 280.0  Bogota  \n",
       "2                 310.0  Bogota  \n",
       "3                 320.0  Bogota  \n",
       "4                 245.0  Bogota  \n",
       "...                 ...     ...  \n",
       "1852              360.0  Bogota  \n",
       "1853              360.0   Cairo  \n",
       "1854              243.0    Riga  \n",
       "1855              270.0    Riga  \n",
       "1856              162.0    Riga  \n",
       "\n",
       "[1857 rows x 9 columns]"
      ]
     },
     "execution_count": 49,
     "metadata": {},
     "output_type": "execute_result"
    }
   ],
   "source": [
    "data"
   ]
  },
  {
   "cell_type": "code",
   "execution_count": 50,
   "metadata": {},
   "outputs": [
    {
     "name": "stdout",
     "output_type": "stream",
     "text": [
      "Размер данных: (1857, 9)\n",
      "\n",
      "Количество пропущенных значений:\n",
      "ID                   0\n",
      "Age_Y                1\n",
      "Gender               0\n",
      "Weight_Kg            1\n",
      "Height_cm            1\n",
      "BMI                  1\n",
      "Speed_m/s            8\n",
      "Jump _distance_cm    1\n",
      "Region               0\n",
      "dtype: int64\n"
     ]
    }
   ],
   "source": [
    "# Размерность данных\n",
    "print(f\"Размер данных: {data.shape}\")\n",
    "\n",
    "# Пропуски\n",
    "print(\"\\nКоличество пропущенных значений:\")\n",
    "print(data.isnull().sum())"
   ]
  },
  {
   "cell_type": "markdown",
   "metadata": {},
   "source": [
    "Удаляем пропуски\n"
   ]
  },
  {
   "cell_type": "code",
   "execution_count": 51,
   "metadata": {},
   "outputs": [
    {
     "name": "stdout",
     "output_type": "stream",
     "text": [
      "\n",
      "Количество пропущенных значений после очистки:\n",
      "ID                   0\n",
      "Age_Y                0\n",
      "Gender               0\n",
      "Weight_Kg            0\n",
      "Height_cm            0\n",
      "BMI                  0\n",
      "Speed_m/s            0\n",
      "Jump _distance_cm    0\n",
      "Region               0\n",
      "dtype: int64\n"
     ]
    }
   ],
   "source": [
    "# Удаляем строки с пропущенными значениями\n",
    "data = data.dropna()\n",
    "\n",
    "# Сбрасываем индексы после удаления строк\n",
    "data = data.reset_index(drop=True)\n",
    "\n",
    "# Проверяем количество пропусков после очистки\n",
    "print(\"\\nКоличество пропущенных значений после очистки:\")\n",
    "print(data.isnull().sum())"
   ]
  },
  {
   "cell_type": "markdown",
   "metadata": {},
   "source": [
    "Межквартильный размах определяется через квантили - разница между 75-м и 25-м процентилям."
   ]
  },
  {
   "cell_type": "code",
   "execution_count": 52,
   "metadata": {},
   "outputs": [
    {
     "name": "stdout",
     "output_type": "stream",
     "text": [
      "До удаления выбросов: (1849, 9)\n",
      "После удаления выбросов: (1689, 9)\n"
     ]
    }
   ],
   "source": [
    "#Да, функция для одного применения, но я предпочту сделать так, потому что можно будет сунуть в библиотеку.\n",
    "def remove_outliers_iqr(df, columns):\n",
    "    for col in columns:\n",
    "        Q1 = df[col].quantile(0.25)\n",
    "        Q3 = df[col].quantile(0.75)\n",
    "        IQR = Q3 - Q1\n",
    "        lower_bound = Q1 - 1.5 * IQR\n",
    "        upper_bound = Q3 + 1.5 * IQR\n",
    "        df = df[(df[col] >= lower_bound) & (df[col] <= upper_bound)]\n",
    "    return df.reset_index(drop=True)\n",
    "\n",
    "# фильтрация\n",
    "data_clean = remove_outliers_iqr(data, numeric_cols)\n",
    "\n",
    "# Проверка размерности\n",
    "print(\"До удаления выбросов:\", data.shape)\n",
    "print(\"После удаления выбросов:\", data_clean.shape)"
   ]
  },
  {
   "cell_type": "markdown",
   "metadata": {},
   "source": [
    "Борьба с шумами"
   ]
  },
  {
   "cell_type": "code",
   "execution_count": 53,
   "metadata": {},
   "outputs": [],
   "source": [
    "def smooth_columns(df, columns, window=3):\n",
    "    df_copy = df.copy()\n",
    "    for col in columns:\n",
    "        df_copy[col] = df_copy[col].rolling(window=window, center=True, min_periods=1).mean()\n",
    "    return df_copy\n",
    "\n",
    "data_smoothed = smooth_columns(data_clean, numeric_cols)"
   ]
  },
  {
   "cell_type": "markdown",
   "metadata": {},
   "source": [
    "Удаляем дубликаты (их не оказалось)"
   ]
  },
  {
   "cell_type": "code",
   "execution_count": 54,
   "metadata": {},
   "outputs": [
    {
     "name": "stdout",
     "output_type": "stream",
     "text": [
      "(1689, 9)\n"
     ]
    }
   ],
   "source": [
    "data_nodup = data_clean.drop_duplicates().reset_index(drop=True)\n",
    "\n",
    "print(data_smoothed.shape)"
   ]
  },
  {
   "cell_type": "markdown",
   "metadata": {},
   "source": [
    "Этот код, чтобы отмести котегориальные поля я просто взял со своего старого проекта:\n",
    "\n",
    "https://github.com/delilit/Spotify"
   ]
  },
  {
   "cell_type": "code",
   "execution_count": 55,
   "metadata": {},
   "outputs": [
    {
     "name": "stdout",
     "output_type": "stream",
     "text": [
      "<class 'pandas.core.frame.DataFrame'>\n",
      "RangeIndex: 1688 entries, 0 to 1687\n",
      "Data columns (total 9 columns):\n",
      " #   Column             Non-Null Count  Dtype  \n",
      "---  ------             --------------  -----  \n",
      " 0   ID                 1688 non-null   int64  \n",
      " 1   Age_Y              1688 non-null   float64\n",
      " 2   Gender             1688 non-null   int64  \n",
      " 3   Weight_Kg          1688 non-null   float64\n",
      " 4   Height_cm          1688 non-null   float64\n",
      " 5   BMI                1688 non-null   float64\n",
      " 6   Speed_m/s          1688 non-null   float64\n",
      " 7   Jump _distance_cm  1688 non-null   float64\n",
      " 8   Region             1688 non-null   int64  \n",
      "dtypes: float64(6), int64(3)\n",
      "memory usage: 118.8 KB\n"
     ]
    }
   ],
   "source": [
    "object_columns = data_nodup.select_dtypes(include=['object']).columns\n",
    "labels = {}\n",
    "\n",
    "for col in object_columns:\n",
    "    le = LabelEncoder()\n",
    "    data_nodup[col] = le.fit_transform(data_nodup[col])\n",
    "    labels[col] = le\n",
    "\n",
    "data_nodup.info()"
   ]
  }
 ],
 "metadata": {
  "kernelspec": {
   "display_name": "Python 3",
   "language": "python",
   "name": "python3"
  },
  "language_info": {
   "codemirror_mode": {
    "name": "ipython",
    "version": 3
   },
   "file_extension": ".py",
   "mimetype": "text/x-python",
   "name": "python",
   "nbconvert_exporter": "python",
   "pygments_lexer": "ipython3",
   "version": "3.13.0"
  }
 },
 "nbformat": 4,
 "nbformat_minor": 2
}
